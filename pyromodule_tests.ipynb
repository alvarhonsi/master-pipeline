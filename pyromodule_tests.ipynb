{
 "cells": [
  {
   "cell_type": "code",
   "execution_count": 2,
   "metadata": {},
   "outputs": [],
   "source": [
    "import sys\n",
    "sys.path.append(\"..\")"
   ]
  },
  {
   "cell_type": "code",
   "execution_count": 17,
   "metadata": {},
   "outputs": [],
   "source": [
    "from functools import partial\n",
    "\n",
    "import matplotlib.pyplot as plt\n",
    "%matplotlib inline\n",
    "\n",
    "import torch\n",
    "import torch.nn as nn\n",
    "import torch.utils.data as data\n",
    "\n",
    "import pyro\n",
    "from pyro.nn import PyroModule, PyroParam, PyroSample, pyro_method\n",
    "import pyro.distributions as dist\n",
    "import pyro.poutine as poutine\n",
    "\n",
    "from modules.config import read_config\n",
    "from modules.datageneration import load_data, data_functions\n",
    "\n",
    "from tyxe_runfiles import generate\n",
    "import os\n",
    "\n",
    "from torch.utils.data import random_split, TensorDataset\n",
    "from torch.utils.data.dataloader import DataLoader\n",
    "\n",
    "import tyxe\n",
    "import tyxe.util as util\n",
    "\n",
    "import pickle"
   ]
  },
  {
   "cell_type": "code",
   "execution_count": 18,
   "metadata": {},
   "outputs": [],
   "source": [
    "class Test(PyroModule):\n",
    "    def __init__(self):\n",
    "        super().__init__()\n",
    "        self._scale = PyroSample(dist.LogNormal(0., 1.))\n",
    "\n",
    "    @pyro_method\n",
    "    @attr\n",
    "    def scale(self):\n",
    "        return self._scale\n",
    "    "
   ]
  },
  {
   "cell_type": "code",
   "execution_count": 22,
   "metadata": {},
   "outputs": [
    {
     "name": "stdout",
     "output_type": "stream",
     "text": [
      "tensor(4.2527)\n",
      "tensor(1.3440)\n",
      "odict_keys(['_scale'])\n"
     ]
    }
   ],
   "source": [
    "t = Test()\n",
    "print(t.scale())\n",
    "with poutine.trace() as tr:\n",
    "    \n",
    "    x = t.scale()\n",
    "    print(x)\n",
    "print(tr.trace.nodes.keys())"
   ]
  },
  {
   "cell_type": "code",
   "execution_count": null,
   "metadata": {},
   "outputs": [],
   "source": []
  }
 ],
 "metadata": {
  "kernelspec": {
   "display_name": "master",
   "language": "python",
   "name": "python3"
  },
  "language_info": {
   "codemirror_mode": {
    "name": "ipython",
    "version": 3
   },
   "file_extension": ".py",
   "mimetype": "text/x-python",
   "name": "python",
   "nbconvert_exporter": "python",
   "pygments_lexer": "ipython3",
   "version": "3.9.15"
  },
  "orig_nbformat": 4
 },
 "nbformat": 4,
 "nbformat_minor": 2
}
