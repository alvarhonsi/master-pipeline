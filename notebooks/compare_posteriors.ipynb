{
 "cells": [
  {
   "cell_type": "code",
   "execution_count": 4,
   "metadata": {},
   "outputs": [],
   "source": [
    "import sys\n",
    "import os\n",
    "parent_dir = os.path.abspath(os.path.join(os.getcwd(), os.pardir))\n",
    "sys.path.append(parent_dir)\n",
    "\n",
    "from tyxe_runfiles import train, generate, eval\n",
    "#from runfiles import train, generate, eval\n",
    "from modules.config import read_config\n",
    "import modules.plots as plots\n",
    "from modules.datageneration import load_data, data_functions\n",
    "import torch\n",
    "import numpy as np\n",
    "import pandas as pd\n",
    "import matplotlib.pyplot as plt\n",
    "import matplotlib.image as mpimg\n",
    "import seaborn as sns\n",
    "import os\n",
    "import pyro\n",
    "import pyro.poutine as poutine"
   ]
  },
  {
   "cell_type": "code",
   "execution_count": 10,
   "metadata": {},
   "outputs": [],
   "source": [
    "BASE_DIR = \"../tests/run_pipeline_test\""
   ]
  },
  {
   "cell_type": "code",
   "execution_count": 11,
   "metadata": {},
   "outputs": [],
   "source": [
    "configs = read_config(f\"{BASE_DIR}/config.ini\")\n",
    "dataset_configs = read_config(f\"{BASE_DIR}/dataset_config.ini\")"
   ]
  },
  {
   "cell_type": "code",
   "execution_count": null,
   "metadata": {},
   "outputs": [],
   "source": [
    "profiles = [\"sin-10x-sigma001\", \"sin-10x-sigma01\", \"sin-10x-sigma05\", \"sin-10x-sigma1\"]\n",
    "\n",
    "# Load posterior samples \n",
    "posterior_samples = {}\n",
    "for p in profiles:\n",
    "    name = configs[p][\"NAME\"]\n",
    "    # Load posterior samples\n",
    "    train = np.load(f\"{BASE_DIR}/results/{name}/posterior_samples/predictions_train.npy\")"
   ]
  }
 ],
 "metadata": {
  "kernelspec": {
   "display_name": "master",
   "language": "python",
   "name": "python3"
  },
  "language_info": {
   "codemirror_mode": {
    "name": "ipython",
    "version": 3
   },
   "file_extension": ".py",
   "mimetype": "text/x-python",
   "name": "python",
   "nbconvert_exporter": "python",
   "pygments_lexer": "ipython3",
   "version": "3.9.15"
  },
  "orig_nbformat": 4
 },
 "nbformat": 4,
 "nbformat_minor": 2
}
