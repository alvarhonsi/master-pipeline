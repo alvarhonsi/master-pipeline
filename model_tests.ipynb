{
 "cells": [
  {
   "cell_type": "code",
   "execution_count": 1,
   "metadata": {},
   "outputs": [],
   "source": [
    "import train as train\n",
    "import generate\n",
    "import eval\n",
    "import train\n",
    "from modules.config import read_config\n",
    "import modules.plots as plots\n",
    "from modules.datageneration import load_data, data_functions\n",
    "import torch\n",
    "import numpy as np\n",
    "import pandas as pd\n",
    "import matplotlib.pyplot as plt\n",
    "import seaborn as sns\n",
    "import os"
   ]
  },
  {
   "cell_type": "code",
   "execution_count": 2,
   "metadata": {},
   "outputs": [],
   "source": [
    "BASE_DIR = \"./tests/sanity_check\"\n",
    "PROFILE = \"sinus-(9,18)\"\n",
    "\n",
    "#BASE_DIR = \"./tests/x-dim-test\"\n",
    "#PROFILE = \"test\""
   ]
  },
  {
   "cell_type": "code",
   "execution_count": 3,
   "metadata": {},
   "outputs": [],
   "source": [
    "configs = read_config(f\"{BASE_DIR}/config.ini\")\n",
    "dataset_configs = read_config(f\"{BASE_DIR}/dataset_config.ini\")\n",
    "\n",
    "config = configs[PROFILE]\n",
    "NAME = config[\"NAME\"]\n",
    "dataset_config = dataset_configs[config[\"DATASET\"]]\n",
    "DATASET_NAME = dataset_config[\"NAME\"]"
   ]
  },
  {
   "cell_type": "code",
   "execution_count": null,
   "metadata": {},
   "outputs": [],
   "source": []
  }
 ],
 "metadata": {
  "kernelspec": {
   "display_name": "master",
   "language": "python",
   "name": "python3"
  },
  "language_info": {
   "codemirror_mode": {
    "name": "ipython",
    "version": 3
   },
   "file_extension": ".py",
   "mimetype": "text/x-python",
   "name": "python",
   "nbconvert_exporter": "python",
   "pygments_lexer": "ipython3",
   "version": "3.9.15"
  },
  "orig_nbformat": 4
 },
 "nbformat": 4,
 "nbformat_minor": 2
}
