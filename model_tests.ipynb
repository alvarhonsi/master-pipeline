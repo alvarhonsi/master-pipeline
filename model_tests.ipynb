{
 "cells": [
  {
   "cell_type": "code",
   "execution_count": 1,
   "metadata": {},
   "outputs": [],
   "source": [
    "import train as train\n",
    "import generate\n",
    "import eval\n",
    "import train\n",
    "from modules.config import read_config\n",
    "import modules.plots as plots\n",
    "from modules.datageneration import load_data, data_functions\n",
    "import torch\n",
    "import numpy as np\n",
    "import pandas as pd\n",
    "import matplotlib.pyplot as plt\n",
    "import seaborn as sns\n",
    "import os\n",
    "import pyro.poutine as poutine"
   ]
  },
  {
   "cell_type": "code",
   "execution_count": 2,
   "metadata": {},
   "outputs": [],
   "source": [
    "BASE_DIR = \"./tests/sanity_check\"\n",
    "PROFILE = \"sinus-(10,20)-ownguide\"\n",
    "\n",
    "#BASE_DIR = \"./tests/x-dim-test\"\n",
    "#PROFILE = \"test\""
   ]
  },
  {
   "cell_type": "code",
   "execution_count": 3,
   "metadata": {},
   "outputs": [],
   "source": [
    "configs = read_config(f\"{BASE_DIR}/config.ini\")\n",
    "dataset_configs = read_config(f\"{BASE_DIR}/dataset_config.ini\")\n",
    "\n",
    "config = configs[PROFILE]\n",
    "NAME = config[\"NAME\"]\n",
    "dataset_config = dataset_configs[config[\"DATASET\"]]\n",
    "DATASET_NAME = dataset_config[\"NAME\"]"
   ]
  },
  {
   "cell_type": "code",
   "execution_count": 4,
   "metadata": {},
   "outputs": [
    {
     "name": "stdout",
     "output_type": "stream",
     "text": [
      "odict_keys(['model.fc.0.0.linear.weight', 'model.fc.0.0.linear.bias', 'model.fc.1.linear.weight', 'model.fc.1.linear.bias', 'data', 'obs'])\n",
      "dict_keys(['_pyro_name', '_pyro_context', '_pyro_params', '_pyro_samples', 'training', '_parameters', '_buffers', '_non_persistent_buffers_set', '_backward_hooks', '_is_full_backward_hook', '_forward_hooks', '_forward_pre_hooks', '_state_dict_hooks', '_load_state_dict_pre_hooks', '_load_state_dict_post_hooks', '_modules', 'sample_input', 'sites'])\n"
     ]
    }
   ],
   "source": [
    "inference_model = train.make_inference_model(config, device=\"cpu\")"
   ]
  },
  {
   "cell_type": "code",
   "execution_count": 7,
   "metadata": {},
   "outputs": [
    {
     "data": {
      "text/plain": [
       "Parameter containing:\n",
       "tensor([0., 0., 0., 0., 0., 0., 0., 0., 0., 0., 0., 0., 0., 0., 0., 0., 0., 0., 0., 0., 0., 0., 0., 0.,\n",
       "        0., 0., 0., 0., 0., 0., 0., 0.], requires_grad=True)"
      ]
     },
     "execution_count": 7,
     "metadata": {},
     "output_type": "execute_result"
    }
   ],
   "source": [
    "inference_model.guide.model_fc_0_0_linear_bias_loc"
   ]
  },
  {
   "cell_type": "code",
   "execution_count": null,
   "metadata": {},
   "outputs": [],
   "source": [
    "_, _, (x_test, y_test), (x_test_in_domain, y_test_in_domain), (x_test_out_domain, y_test_out_domain) = load_data(f\"{BASE_DIR}/datasets/{DATASET_NAME}\", load_train=False, load_val=False)"
   ]
  },
  {
   "cell_type": "code",
   "execution_count": null,
   "metadata": {},
   "outputs": [
    {
     "name": "stdout",
     "output_type": "stream",
     "text": [
      "sample model.fc.0.0.linear.weight torch.Size([32, 1])\n",
      "sample model.fc.0.0.linear.bias torch.Size([32])\n",
      "sample model.fc.1.linear.weight torch.Size([1, 32])\n",
      "sample model.fc.1.linear.bias torch.Size([1])\n",
      "sample data torch.Size([1])\n",
      "sample obs torch.Size([1])\n"
     ]
    }
   ],
   "source": [
    "with poutine.trace() as tr:\n",
    "    inference_model.model(x_test[0])\n",
    "for site in tr.trace.nodes.values():\n",
    "    print(site[\"type\"], site[\"name\"], site[\"value\"].shape)"
   ]
  },
  {
   "cell_type": "code",
   "execution_count": null,
   "metadata": {},
   "outputs": [
    {
     "data": {
      "text/plain": [
       "BayesianRegressor(\n",
       "  (fc): PyroSequential(\n",
       "    (0): PyroSequential(\n",
       "      (0): BayesianLinear(\n",
       "        (linear): PyroLinear(in_features=1, out_features=32, bias=True)\n",
       "      )\n",
       "      (1): ReLU()\n",
       "    )\n",
       "    (1): BayesianLinear(\n",
       "      (linear): PyroLinear(in_features=32, out_features=1, bias=True)\n",
       "    )\n",
       "  )\n",
       ")"
      ]
     },
     "execution_count": 7,
     "metadata": {},
     "output_type": "execute_result"
    }
   ],
   "source": [
    "inference_model.model"
   ]
  },
  {
   "cell_type": "code",
   "execution_count": null,
   "metadata": {},
   "outputs": [],
   "source": []
  }
 ],
 "metadata": {
  "kernelspec": {
   "display_name": "master",
   "language": "python",
   "name": "python3"
  },
  "language_info": {
   "codemirror_mode": {
    "name": "ipython",
    "version": 3
   },
   "file_extension": ".py",
   "mimetype": "text/x-python",
   "name": "python",
   "nbconvert_exporter": "python",
   "pygments_lexer": "ipython3",
   "version": "3.9.15"
  },
  "orig_nbformat": 4
 },
 "nbformat": 4,
 "nbformat_minor": 2
}
