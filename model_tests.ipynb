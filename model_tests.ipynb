{
 "cells": [
  {
   "cell_type": "code",
   "execution_count": 1,
   "metadata": {},
   "outputs": [],
   "source": [
    "import train as train\n",
    "import generate\n",
    "import eval\n",
    "import train\n",
    "from modules.config import read_config\n",
    "import modules.plots as plots\n",
    "from modules.datageneration import load_data, data_functions\n",
    "import torch\n",
    "import numpy as np\n",
    "import pandas as pd\n",
    "import matplotlib.pyplot as plt\n",
    "import seaborn as sns\n",
    "import os\n",
    "import pyro.poutine as poutine"
   ]
  },
  {
   "cell_type": "code",
   "execution_count": 2,
   "metadata": {},
   "outputs": [],
   "source": [
    "BASE_DIR = \"./tests/sanity_check\"\n",
    "PROFILE = \"sinus-(10,20)-adam\"\n",
    "\n",
    "#BASE_DIR = \"./tests/x-dim-test\"\n",
    "#PROFILE = \"test\""
   ]
  },
  {
   "cell_type": "code",
   "execution_count": 3,
   "metadata": {},
   "outputs": [],
   "source": [
    "configs = read_config(f\"{BASE_DIR}/config.ini\")\n",
    "dataset_configs = read_config(f\"{BASE_DIR}/dataset_config.ini\")\n",
    "\n",
    "config = configs[PROFILE]\n",
    "NAME = config[\"NAME\"]\n",
    "dataset_config = dataset_configs[config[\"DATASET\"]]\n",
    "DATASET_NAME = dataset_config[\"NAME\"]"
   ]
  },
  {
   "cell_type": "code",
   "execution_count": 4,
   "metadata": {},
   "outputs": [
    {
     "name": "stdout",
     "output_type": "stream",
     "text": [
      "AutoNormal()\n"
     ]
    }
   ],
   "source": [
    "inference_model = train.make_inference_model(config, device=\"cpu\")"
   ]
  },
  {
   "cell_type": "code",
   "execution_count": 5,
   "metadata": {},
   "outputs": [
    {
     "data": {
      "text/plain": [
       "{'init_loc_fn': <function modules.guides.getAutoNormal.<locals>.init_func(*args)>,\n",
       " '_init_scale': 0.1,\n",
       " '_pyro_name': 'AutoNormal',\n",
       " '_pyro_context': <pyro.nn.module._Context at 0x7fcb34567d30>,\n",
       " '_pyro_params': OrderedDict(),\n",
       " '_pyro_samples': OrderedDict(),\n",
       " 'training': True,\n",
       " '_parameters': OrderedDict(),\n",
       " '_buffers': OrderedDict(),\n",
       " '_non_persistent_buffers_set': set(),\n",
       " '_backward_hooks': OrderedDict(),\n",
       " '_is_full_backward_hook': None,\n",
       " '_forward_hooks': OrderedDict(),\n",
       " '_forward_pre_hooks': OrderedDict(),\n",
       " '_state_dict_hooks': OrderedDict(),\n",
       " '_load_state_dict_pre_hooks': OrderedDict(),\n",
       " '_load_state_dict_post_hooks': OrderedDict(),\n",
       " '_modules': OrderedDict(),\n",
       " 'master': None,\n",
       " '_model': (_bound_partial(functools.partial(<function _context_wrap at 0x7fcb3445eca0>, <pyro.infer.autoguide.initialization.InitMessenger object at 0x7fcb36e3adc0>, BayesianRegressorV2(\n",
       "    (fc0): PyroLinear(in_features=1, out_features=32, bias=True)\n",
       "    (fc1): PyroLinear(in_features=32, out_features=1, bias=True)\n",
       "    (LeakyReLU): LeakyReLU(negative_slope=0.1)\n",
       "  ))),),\n",
       " 'create_plates': None,\n",
       " 'prototype_trace': None,\n",
       " '_prototype_frames': {}}"
      ]
     },
     "execution_count": 5,
     "metadata": {},
     "output_type": "execute_result"
    }
   ],
   "source": [
    "inference_model.guide.__dict__"
   ]
  },
  {
   "cell_type": "code",
   "execution_count": null,
   "metadata": {},
   "outputs": [],
   "source": []
  },
  {
   "cell_type": "code",
   "execution_count": 6,
   "metadata": {},
   "outputs": [],
   "source": [
    "_, _, (x_test, y_test), (x_test_in_domain, y_test_in_domain), (x_test_out_domain, y_test_out_domain) = load_data(f\"{BASE_DIR}/datasets/{DATASET_NAME}\", load_train=False, load_val=False)"
   ]
  },
  {
   "cell_type": "code",
   "execution_count": 7,
   "metadata": {},
   "outputs": [
    {
     "name": "stdout",
     "output_type": "stream",
     "text": [
      "torch.Size([1])\n",
      "fc0\n",
      "torch.Size([32])\n",
      "fc1\n",
      "torch.Size([1])\n",
      "sample fc0.weight torch.Size([32, 1])\n",
      "sample fc0.bias torch.Size([32])\n",
      "sample fc1.weight torch.Size([1, 32])\n",
      "sample fc1.bias torch.Size([1])\n",
      "sample sigma torch.Size([])\n",
      "sample data torch.Size([1])\n",
      "sample obs torch.Size([1])\n"
     ]
    }
   ],
   "source": [
    "with poutine.trace() as tr:\n",
    "    inference_model.model(x_test[0])\n",
    "for site in tr.trace.nodes.values():\n",
    "    print(site[\"type\"], site[\"name\"], site[\"value\"].shape)"
   ]
  },
  {
   "cell_type": "code",
   "execution_count": 8,
   "metadata": {},
   "outputs": [
    {
     "data": {
      "text/plain": [
       "BayesianRegressorV2(\n",
       "  (fc0): PyroLinear(in_features=1, out_features=32, bias=True)\n",
       "  (fc1): PyroLinear(in_features=32, out_features=1, bias=True)\n",
       "  (LeakyReLU): LeakyReLU(negative_slope=0.1)\n",
       ")"
      ]
     },
     "execution_count": 8,
     "metadata": {},
     "output_type": "execute_result"
    }
   ],
   "source": [
    "inference_model.model"
   ]
  },
  {
   "cell_type": "code",
   "execution_count": null,
   "metadata": {},
   "outputs": [],
   "source": []
  }
 ],
 "metadata": {
  "kernelspec": {
   "display_name": "master",
   "language": "python",
   "name": "python3"
  },
  "language_info": {
   "codemirror_mode": {
    "name": "ipython",
    "version": 3
   },
   "file_extension": ".py",
   "mimetype": "text/x-python",
   "name": "python",
   "nbconvert_exporter": "python",
   "pygments_lexer": "ipython3",
   "version": "3.9.15"
  },
  "orig_nbformat": 4
 },
 "nbformat": 4,
 "nbformat_minor": 2
}
